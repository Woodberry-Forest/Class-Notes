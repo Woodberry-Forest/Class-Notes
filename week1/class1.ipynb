{
 "cells": [
  {
   "cell_type": "markdown",
   "metadata": {},
   "source": [
    "# Welcome to Intro to Python!\n",
    "\n",
    "We will work now on getting you set up to run code for your class."
   ]
  },
  {
   "cell_type": "markdown",
   "metadata": {},
   "source": [
    "# Computers\n",
    "Computers are very powerful machines, but are very literal. They will only do exactly what you tell them to do, and nothing more. But, if you make these instructions complex enough, they can do cool things. In their most basic state, they only perform incredibly simple tasks, like adding numbers, very quickly. You've probably heard that everything in a computer is just 1s and 0s. \n",
    "\n",
    "This is true, computers are just a bunch of switches, but it would be annoying for us to have to write 1s and 0s, worrying about file formats, etc. So, people have designed programming languages to help us to communicate with computers and give them instructions. \n",
    "\n",
    "# Python\n",
    "\n",
    "Python is a programming language that is relatively easy to learn, mainly because it is very readable. Meaning, you can pretty much read it like English. That being said, it is a new language, so it will take some time to get used to it. This readability is not the case with all programming languages, for example, look at this code written in a language called Assembly:\n",
    "\n",
    "```assembly\n",
    "\n",
    "MOV AX, 0\n",
    "MOV BX, 1\n",
    "MOV CX, 10\n",
    "LOOP:\n",
    "    ADD AX, BX\n",
    "    DEC CX\n",
    "    JNZ LOOP\n",
    "```\n",
    "\n",
    "This code is adding 1 (BX) to a number (AX, which begins at 0) 10 times. It is not very easy to read, is it?\n",
    "\n",
    "Now, let's see the same code written in Python:\n",
    "\n",
    "```python\n",
    "total = 0 \n",
    "for i in range(10):\n",
    "    total += 1\n",
    "```\n",
    "\n",
    "# How does Python work?\n",
    "\n",
    "Python is an interpreted language, which means that when you write code in Python, the computer reads the code line by line, and executes it immediately. \n",
    "\n",
    "This means that you can run Python code very quickly, and see the results immediately. This is great for learning, as you can see the results of your code as you write it and hit the run button, but, this also means that Python code executes slower than code written in other languages. We won't worry about this for now.\n",
    "\n",
    "You can run Python in a few ways, which we will go over. But, we will predominantly use Jupyter Notebooks running in Github Codespaces. This is primarily to make our lives easier, since we won't have to individually set up your development environment on each of your computers.\n",
    "\n",
    "# Summary\n",
    "\n",
    "- Computers are very good at doing simple tasks, such as adding numbers, very quickly.\n",
    "- Computers are very literal, and will do exactly what you tell them to do, and nothing more.\n",
    "- Python is a programming language that allows us to give instructions to the computer in a way that it can understand.\n",
    "- Python is an interpreted language, which means that the code is executed line by line, top to bottom."
   ]
  },
  {
   "cell_type": "markdown",
   "metadata": {},
   "source": [
    "# Jupyter Notebooks\n",
    "\n",
    "Jupyter Notebooks are a great way to run code in Python. They allow you to run code in small chunks, and see the output immediately. This is great for learning, as you can see the results of your code as you write it.\n",
    "\n",
    "Almost all of our classwork and homework will be completed in Jupyter Notebooks."
   ]
  },
  {
   "cell_type": "code",
   "execution_count": 1,
   "metadata": {},
   "outputs": [
    {
     "name": "stdout",
     "output_type": "stream",
     "text": [
      "Hello, world!\n"
     ]
    }
   ],
   "source": [
    "print(\"Hello, world!\")"
   ]
  },
  {
   "cell_type": "markdown",
   "metadata": {},
   "source": []
  }
 ],
 "metadata": {
  "kernelspec": {
   "display_name": "Python 3",
   "language": "python",
   "name": "python3"
  },
  "language_info": {
   "codemirror_mode": {
    "name": "ipython",
    "version": 3
   },
   "file_extension": ".py",
   "mimetype": "text/x-python",
   "name": "python",
   "nbconvert_exporter": "python",
   "pygments_lexer": "ipython3",
   "version": "3.11.4"
  }
 },
 "nbformat": 4,
 "nbformat_minor": 2
}
