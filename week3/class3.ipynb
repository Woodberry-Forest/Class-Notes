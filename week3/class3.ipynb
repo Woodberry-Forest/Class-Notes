{
 "cells": [
  {
   "cell_type": "markdown",
   "metadata": {},
   "source": [
    "# Class 3"
   ]
  },
  {
   "cell_type": "code",
   "execution_count": null,
   "metadata": {},
   "outputs": [],
   "source": [
    "!pip3 install numpy"
   ]
  },
  {
   "cell_type": "markdown",
   "metadata": {},
   "source": [
    "# Palindrome Checker"
   ]
  },
  {
   "cell_type": "code",
   "execution_count": 5,
   "metadata": {},
   "outputs": [
    {
     "data": {
      "text/plain": [
       "True"
      ]
     },
     "execution_count": 5,
     "metadata": {},
     "output_type": "execute_result"
    }
   ],
   "source": [
    "s = \"racecar\"\n",
    "s_list = list(s)\n",
    "s_list.reverse()\n",
    "s_reversed = \"\".join(s_list)\n",
    "s == s_reversed"
   ]
  },
  {
   "cell_type": "code",
   "execution_count": 6,
   "metadata": {},
   "outputs": [],
   "source": [
    "def palindrome_checker(s):\n",
    "    s_list = list(s)\n",
    "    s_list.reverse()\n",
    "    s_reversed = \"\".join(s_list)\n",
    "    return s == s_reversed"
   ]
  },
  {
   "cell_type": "code",
   "execution_count": 11,
   "metadata": {},
   "outputs": [
    {
     "data": {
      "text/plain": [
       "True"
      ]
     },
     "execution_count": 11,
     "metadata": {},
     "output_type": "execute_result"
    }
   ],
   "source": [
    "palindrome_checker(\"racecar\")"
   ]
  },
  {
   "cell_type": "markdown",
   "metadata": {},
   "source": [
    "# Contact List"
   ]
  },
  {
   "cell_type": "code",
   "execution_count": 21,
   "metadata": {},
   "outputs": [],
   "source": [
    "contact_list = {\"Bob\": {\"First Name\": \"Bob\",\n",
    "                        \"Last Name\": \"Joseph\",\n",
    "                        \"Phone Number\": 2491981940},\n",
    "                \"Charlie\": {\"First Name\": \"Charlie\",\n",
    "                            \"Last Name\": \"Doe\",\n",
    "                            \"Phone Number\": 2914802840},\n",
    "                \"Mr. Tucker\": {\"First Name\": \"Mr.\",\n",
    "                               \"Last Name\": \"Tucker\",\n",
    "                               \"Phone Number\": 1948010400},\n",
    "                \"Tony\": {\"First Name\": \"Tony\",\n",
    "                         \"Last Name\": \"Romo\",\n",
    "                         \"Phone Number\": 2021007489}}"
   ]
  },
  {
   "cell_type": "code",
   "execution_count": 25,
   "metadata": {},
   "outputs": [
    {
     "data": {
      "text/plain": [
       "2914802840"
      ]
     },
     "execution_count": 25,
     "metadata": {},
     "output_type": "execute_result"
    }
   ],
   "source": [
    "contact_list[\"Charlie\"][\"Phone Number\"]"
   ]
  },
  {
   "cell_type": "code",
   "execution_count": 24,
   "metadata": {},
   "outputs": [
    {
     "data": {
      "text/plain": [
       "dict_keys(['Bob', 'Charlie', 'Mr. Tucker', 'Tony'])"
      ]
     },
     "execution_count": 24,
     "metadata": {},
     "output_type": "execute_result"
    }
   ],
   "source": [
    "contact_list.keys()"
   ]
  },
  {
   "cell_type": "code",
   "execution_count": 26,
   "metadata": {},
   "outputs": [],
   "source": [
    "def update_contact(cl, fn, ln, num):\n",
    "    contact = {\"First Name\": fn,\n",
    "               \"Last Name\": ln,\n",
    "               \"Phone Number\": num}\n",
    "    cl[fn] = contact\n",
    "    return cl"
   ]
  },
  {
   "cell_type": "code",
   "execution_count": 27,
   "metadata": {},
   "outputs": [
    {
     "data": {
      "text/plain": [
       "{'Bob': {'First Name': 'Bob',\n",
       "  'Last Name': 'Joseph',\n",
       "  'Phone Number': 2491981940},\n",
       " 'Charlie': {'First Name': 'Charlie',\n",
       "  'Last Name': 'Doe',\n",
       "  'Phone Number': 2914802840},\n",
       " 'Mr. Tucker': {'First Name': 'Mr.',\n",
       "  'Last Name': 'Tucker',\n",
       "  'Phone Number': 1948010400},\n",
       " 'Tony': {'First Name': 'Tony',\n",
       "  'Last Name': 'Romo',\n",
       "  'Phone Number': 2021007489},\n",
       " 'Will': {'First Name': 'Will',\n",
       "  'Last Name': 'Trimmer',\n",
       "  'Phone Number': 2893901342}}"
      ]
     },
     "execution_count": 27,
     "metadata": {},
     "output_type": "execute_result"
    }
   ],
   "source": [
    "update_contact(contact_list, \"Will\", \"Trimmer\", 2893901342)"
   ]
  },
  {
   "cell_type": "code",
   "execution_count": 29,
   "metadata": {},
   "outputs": [
    {
     "data": {
      "text/plain": [
       "{'Bob': {'First Name': 'Bob',\n",
       "  'Last Name': 'Joseph',\n",
       "  'Phone Number': 2491981940},\n",
       " 'Charlie': {'First Name': 'Charlie',\n",
       "  'Last Name': 'Doe',\n",
       "  'Phone Number': 2914802840},\n",
       " 'Mr. Tucker': {'First Name': 'Mr.',\n",
       "  'Last Name': 'Tucker',\n",
       "  'Phone Number': 1948010400},\n",
       " 'Tony': {'First Name': 'Tony',\n",
       "  'Last Name': 'Romo',\n",
       "  'Phone Number': 2021007489},\n",
       " 'Will': {'First Name': 'Will',\n",
       "  'Last Name': 'Trimmer',\n",
       "  'Phone Number': 2893901342},\n",
       " 'Baby': {'First Name': 'Baby', 'Last Name': 'Jesus', 'Phone Number': 1}}"
      ]
     },
     "execution_count": 29,
     "metadata": {},
     "output_type": "execute_result"
    }
   ],
   "source": [
    "update_contact(contact_list, \"Baby\", \"Jesus\", 1)"
   ]
  },
  {
   "cell_type": "code",
   "execution_count": null,
   "metadata": {},
   "outputs": [],
   "source": []
  }
 ],
 "metadata": {
  "kernelspec": {
   "display_name": "Python 3",
   "language": "python",
   "name": "python3"
  },
  "language_info": {
   "codemirror_mode": {
    "name": "ipython",
    "version": 3
   },
   "file_extension": ".py",
   "mimetype": "text/x-python",
   "name": "python",
   "nbconvert_exporter": "python",
   "pygments_lexer": "ipython3",
   "version": "3.11.4"
  }
 },
 "nbformat": 4,
 "nbformat_minor": 2
}
